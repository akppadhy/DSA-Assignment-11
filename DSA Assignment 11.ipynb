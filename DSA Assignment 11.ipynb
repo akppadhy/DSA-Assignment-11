{
 "cells": [
  {
   "cell_type": "code",
   "execution_count": null,
   "id": "63802bd4-71a5-4e9e-a44a-ae24fccbf9c2",
   "metadata": {},
   "outputs": [],
   "source": [
    "#1. Given a non-negative integer `x`, return *the square root of* `x` *rounded down to the nearest integer*. The returned integer should be **non-negative** as well.\n",
    "\n",
    "#You **must not use** any built-in exponent function or operator.\n",
    "\n",
    "#- For example, do not use `pow(x, 0.5)` in c++ or `x ** 0.5` in python.\n",
    "\n",
    "**Example 1:**\n",
    "#Input: x = 4\n",
    "#Output: 2\n",
    "#Explanation: The square root of 4 is 2, so we return 2.\n"
   ]
  },
  {
   "cell_type": "code",
   "execution_count": 1,
   "id": "220ed9d1-63ff-4d40-90a5-bb252a9cf9e6",
   "metadata": {},
   "outputs": [],
   "source": [
    "def mySqrt(x):\n",
    "    if x == 0:\n",
    "        return 0\n",
    "\n",
    "    left = 1\n",
    "    right = x\n",
    "\n",
    "    while left <= right:\n",
    "        mid = (left + right) // 2\n",
    "        if mid * mid > x:\n",
    "            right = mid - 1\n",
    "        else:\n",
    "            left = mid + 1\n",
    "\n",
    "    return right\n"
   ]
  },
  {
   "cell_type": "code",
   "execution_count": 3,
   "id": "858fa59d-a101-4e92-bdd3-4ffc021ab90f",
   "metadata": {},
   "outputs": [
    {
     "name": "stdout",
     "output_type": "stream",
     "text": [
      "2\n"
     ]
    }
   ],
   "source": [
    "x = 4\n",
    "result = mySqrt(x)\n",
    "print(result)"
   ]
  },
  {
   "cell_type": "code",
   "execution_count": null,
   "id": "58d6f85d-27be-4786-b789-6e5af6ede5d2",
   "metadata": {},
   "outputs": [],
   "source": [
    "#2. A peak element is an element that is strictly greater than its neighbors.\n",
    "\n",
    "#Given a **0-indexed** integer array `nums`, find a peak element, and return its index. If the array contains multiple peaks, return the index to **any of the peaks**.\n",
    "\n",
    "#You may imagine that `nums[-1] = nums[n] = -∞`. In other words, an element is always considered to be strictly greater than a neighbor that is outside the array.\n",
    "\n",
    "#You must write an algorithm that runs in `O(log n)` time.\n",
    "\n",
    "#Example 1:\n",
    "#Input: nums = [1,2,3,1]\n",
    "#Output: 2\n",
    "#Explanation: 3 is a peak element and your function should return the index number 2.   "
   ]
  },
  {
   "cell_type": "code",
   "execution_count": 4,
   "id": "dce418c5-ecc7-495d-b41a-2974e15b385c",
   "metadata": {},
   "outputs": [],
   "source": [
    "def findPeakElement(nums):\n",
    "    left = 0\n",
    "    right = len(nums) - 1\n",
    "\n",
    "    while left <= right:\n",
    "        mid = (left + right) // 2\n",
    "        if (mid == 0 or nums[mid] > nums[mid - 1]) and (mid == len(nums) - 1 or nums[mid] > nums[mid + 1]):\n",
    "            return mid\n",
    "        elif mid > 0 and nums[mid - 1] > nums[mid]:\n",
    "            right = mid - 1\n",
    "        else:\n",
    "            left = mid + 1\n",
    "\n",
    "    return left\n"
   ]
  },
  {
   "cell_type": "code",
   "execution_count": 6,
   "id": "e656a93b-6b30-42fb-8fff-4bd93c8fe93e",
   "metadata": {},
   "outputs": [
    {
     "name": "stdout",
     "output_type": "stream",
     "text": [
      "2\n"
     ]
    }
   ],
   "source": [
    "nums = [1, 2, 3, 1]\n",
    "result = findPeakElement(nums)\n",
    "print(result)  \n"
   ]
  },
  {
   "cell_type": "code",
   "execution_count": null,
   "id": "f8bf700a-d33c-4355-a98d-7a495f95317a",
   "metadata": {},
   "outputs": [],
   "source": [
    "#3. Given an array `nums` containing `n` distinct numbers in the range `[0, n]`, return *the only number in the range that is missing from the array.*\n",
    "\n",
    "#Example 1:\n",
    "#Input: nums = [3,0,1]\n",
    "#Output: 2\n",
    "#Explanation: n = 3 since there are 3 numbers, so all numbers are in the range [0,3]. 2 is the missing number in the range since it does not appear in nums.\n"
   ]
  },
  {
   "cell_type": "code",
   "execution_count": 7,
   "id": "58710004-f6e9-4702-9358-59d1ab68e924",
   "metadata": {},
   "outputs": [],
   "source": [
    "def missingNumber(nums):\n",
    "    n = len(nums)\n",
    "    expected_sum = (n * (n + 1)) // 2\n",
    "    actual_sum = sum(nums)\n",
    "    return expected_sum - actual_sum\n"
   ]
  },
  {
   "cell_type": "code",
   "execution_count": 8,
   "id": "d4ef2814-7503-4a36-bc14-77a15963e4ae",
   "metadata": {},
   "outputs": [
    {
     "name": "stdout",
     "output_type": "stream",
     "text": [
      "2\n"
     ]
    }
   ],
   "source": [
    "nums = [3, 0, 1]\n",
    "result = missingNumber(nums)\n",
    "print(result) \n"
   ]
  },
  {
   "cell_type": "code",
   "execution_count": null,
   "id": "5c5fefbe-e93f-44f1-b676-3aaf8cf83622",
   "metadata": {},
   "outputs": [],
   "source": [
    "#4. Given an array of integers `nums` containing `n + 1` integers where each integer is in the range `[1, n]` inclusive.\n",
    "\n",
    "#There is only **one repeated number** in `nums`, return *this repeated number*.\n",
    "\n",
    "#You must solve the problem **without** modifying the array `nums` and uses only constant extra space.\n",
    "\n",
    "#**Example 1:**\n",
    "#Input: nums = [1,3,4,2,2]\n",
    "#Output: 2\n"
   ]
  },
  {
   "cell_type": "code",
   "execution_count": 9,
   "id": "19ec7895-9a81-4646-9fe4-329dbecab0b2",
   "metadata": {},
   "outputs": [],
   "source": [
    "def findDuplicate(nums):\n",
    "    slow = fast = nums[0]\n",
    "\n",
    "    while True:\n",
    "        slow = nums[slow]\n",
    "        fast = nums[nums[fast]]\n",
    "        if slow == fast:\n",
    "            break\n",
    "\n",
    "    slow = nums[0]\n",
    "    while slow != fast:\n",
    "        slow = nums[slow]\n",
    "        fast = nums[fast]\n",
    "\n",
    "    return slow\n"
   ]
  },
  {
   "cell_type": "code",
   "execution_count": 10,
   "id": "2ea615c1-b21b-4d9a-b8c1-5505b9537d35",
   "metadata": {},
   "outputs": [
    {
     "name": "stdout",
     "output_type": "stream",
     "text": [
      "2\n"
     ]
    }
   ],
   "source": [
    "nums = [1, 3, 4, 2, 2]\n",
    "result = findDuplicate(nums)\n",
    "print(result)  \n"
   ]
  },
  {
   "cell_type": "code",
   "execution_count": null,
   "id": "26513d00-24f0-4345-a362-a07b0057725f",
   "metadata": {},
   "outputs": [],
   "source": [
    "#5. Given two integer arrays `nums1` and `nums2`, return *an array of their intersection*. Each element in the result must be **unique** and you may return the result in **any order**.\n",
    "\n",
    "#**Example 1:**\n",
    "#Input: nums1 = [1,2,2,1], nums2 = [2,2]\n",
    "#Output: [2]\n"
   ]
  },
  {
   "cell_type": "code",
   "execution_count": 11,
   "id": "9335da4b-4d0c-456a-b2dd-ecc916387be1",
   "metadata": {},
   "outputs": [],
   "source": [
    "def intersection(nums1, nums2):\n",
    "    set1 = set(nums1)\n",
    "    set2 = set(nums2)\n",
    "    intersection_set = set1.intersection(set2)\n",
    "    return list(intersection_set)\n"
   ]
  },
  {
   "cell_type": "code",
   "execution_count": 12,
   "id": "c00ae3bf-08f7-48c6-ba5d-3b4ea56ff2be",
   "metadata": {},
   "outputs": [
    {
     "name": "stdout",
     "output_type": "stream",
     "text": [
      "[2]\n"
     ]
    }
   ],
   "source": [
    "nums1 = [1, 2, 2, 1]\n",
    "nums2 = [2, 2]\n",
    "result = intersection(nums1, nums2)\n",
    "print(result)  \n"
   ]
  },
  {
   "cell_type": "code",
   "execution_count": null,
   "id": "7324efb0-63e2-4c31-8471-86b66ceb0a04",
   "metadata": {},
   "outputs": [],
   "source": [
    "#6. Suppose an array of length `n` sorted in ascending order is **rotated** between `1` and `n` times. For example, the array `nums = [0,1,2,4,5,6,7]` might become:\n",
    "\n",
    "#- `[4,5,6,7,0,1,2]` if it was rotated `4` times.\n",
    "#- `[0,1,2,4,5,6,7]` if it was rotated `7` times.\n",
    "\n",
    "#Notice that **rotating** an array `[a[0], a[1], a[2], ..., a[n-1]]` 1 time results in the array `[a[n-1], a[0], a[1], a[2], ..., a[n-2]]`.\n",
    "\n",
    "#Given the sorted rotated array `nums` of **unique** elements, return *the minimum element of this array*.\n",
    "\n",
    "#You must write an algorithm that runs in `O(log n) time.`\n",
    "\n",
    "#**Example 1:**\n",
    "#Input: nums = [3,4,5,1,2]\n",
    "#Output: 1\n",
    "#Explanation: The original array was [1,2,3,4,5] rotated 3 times.\n"
   ]
  },
  {
   "cell_type": "code",
   "execution_count": 13,
   "id": "41399e24-f5a8-4048-a0d1-8f5c3a94a1f1",
   "metadata": {},
   "outputs": [],
   "source": [
    "def findMin(nums):\n",
    "    left = 0\n",
    "    right = len(nums) - 1\n",
    "\n",
    "    while left < right:\n",
    "        mid = (left + right) // 2\n",
    "        if nums[mid] > nums[right]:\n",
    "            left = mid + 1\n",
    "        else:\n",
    "            right = mid\n",
    "\n",
    "    return nums[left]\n"
   ]
  },
  {
   "cell_type": "code",
   "execution_count": 14,
   "id": "afd993a8-cfc2-471b-99cc-ce4c15fc7213",
   "metadata": {},
   "outputs": [
    {
     "name": "stdout",
     "output_type": "stream",
     "text": [
      "1\n"
     ]
    }
   ],
   "source": [
    "nums = [3, 4, 5, 1, 2]\n",
    "result = findMin(nums)\n",
    "print(result)  \n"
   ]
  },
  {
   "cell_type": "code",
   "execution_count": null,
   "id": "1758bece-1aa0-48b8-bb27-ec9f65409441",
   "metadata": {},
   "outputs": [],
   "source": [
    "#7. Given an array of integers `nums` sorted in non-decreasing order, find the starting and ending position of a given `target` value.\n",
    "\n",
    "#If `target` is not found in the array, return `[-1, -1]`.\n",
    "\n",
    "#You must write an algorithm with `O(log n)` runtime complexity.\n",
    "\n",
    "#**Example 1:**\n",
    "#Input: nums = [5,7,7,8,8,10], target = 8\n",
    "#Output: [3,4]\n"
   ]
  },
  {
   "cell_type": "code",
   "execution_count": 15,
   "id": "780ea055-944e-45a9-aff2-ead35d7f284d",
   "metadata": {},
   "outputs": [],
   "source": [
    "def searchRange(nums, target):\n",
    "    left = 0\n",
    "    right = len(nums) - 1\n",
    "    start = -1\n",
    "    end = -1\n",
    "\n",
    "    while left <= right:\n",
    "        mid = (left + right) // 2\n",
    "        if nums[mid] == target:\n",
    "            start = mid\n",
    "            right = mid - 1\n",
    "        elif nums[mid] < target:\n",
    "            left = mid + 1\n",
    "        else:\n",
    "            right = mid - 1\n",
    "\n",
    "    if start == -1:\n",
    "        return [-1, -1]\n",
    "\n",
    "    left = start\n",
    "    right = len(nums) - 1\n",
    "\n",
    "    while left <= right:\n",
    "        mid = (left + right) // 2\n",
    "        if nums[mid] == target:\n",
    "            end = mid\n",
    "            left = mid + 1\n",
    "        elif nums[mid] < target:\n",
    "            left = mid + 1\n",
    "        else:\n",
    "            right = mid - 1\n",
    "\n",
    "    return [start, end]\n"
   ]
  },
  {
   "cell_type": "code",
   "execution_count": 16,
   "id": "2ac66316-53dc-4cd7-969a-0a424b6f13ae",
   "metadata": {},
   "outputs": [
    {
     "name": "stdout",
     "output_type": "stream",
     "text": [
      "[3, 4]\n"
     ]
    }
   ],
   "source": [
    "nums = [5, 7, 7, 8, 8, 10]\n",
    "target = 8\n",
    "result = searchRange(nums, target)\n",
    "print(result)  \n"
   ]
  },
  {
   "cell_type": "code",
   "execution_count": null,
   "id": "da1776fd-007a-45a9-9946-7438e99fa891",
   "metadata": {},
   "outputs": [],
   "source": [
    "#8. Given two integer arrays `nums1` and `nums2`, return *an array of their intersection*. Each element in the result must appear as many times as it shows in both arrays and you may return the result in **any order**.\n",
    "\n",
    "#**Example 1:**\n",
    "#Input: nums1 = [1,2,2,1], nums2 = [2,2]\n",
    "#Output: [2,2]\n"
   ]
  },
  {
   "cell_type": "code",
   "execution_count": 17,
   "id": "43b9e9de-1258-4479-800a-f3d314e1d308",
   "metadata": {},
   "outputs": [],
   "source": [
    "def intersect(nums1, nums2):\n",
    "    freq_dict = {}\n",
    "    for num in nums1:\n",
    "        if num in freq_dict:\n",
    "            freq_dict[num] += 1\n",
    "        else:\n",
    "            freq_dict[num] = 1\n",
    "\n",
    "    intersection = []\n",
    "    for num in nums2:\n",
    "        if num in freq_dict and freq_dict[num] > 0:\n",
    "            intersection.append(num)\n",
    "            freq_dict[num] -= 1\n",
    "\n",
    "    return intersection\n"
   ]
  },
  {
   "cell_type": "code",
   "execution_count": 18,
   "id": "d29f5324-8ae5-44ba-bc02-eb7db147f1b6",
   "metadata": {},
   "outputs": [
    {
     "name": "stdout",
     "output_type": "stream",
     "text": [
      "[2, 2]\n"
     ]
    }
   ],
   "source": [
    "nums1 = [1, 2, 2, 1]\n",
    "nums2 = [2, 2]\n",
    "result = intersect(nums1, nums2)\n",
    "print(result) \n"
   ]
  },
  {
   "cell_type": "code",
   "execution_count": null,
   "id": "58628543-4c2d-43e9-9fe3-00affcdddfca",
   "metadata": {},
   "outputs": [],
   "source": []
  }
 ],
 "metadata": {
  "kernelspec": {
   "display_name": "Python 3 (ipykernel)",
   "language": "python",
   "name": "python3"
  },
  "language_info": {
   "codemirror_mode": {
    "name": "ipython",
    "version": 3
   },
   "file_extension": ".py",
   "mimetype": "text/x-python",
   "name": "python",
   "nbconvert_exporter": "python",
   "pygments_lexer": "ipython3",
   "version": "3.10.6"
  }
 },
 "nbformat": 4,
 "nbformat_minor": 5
}
